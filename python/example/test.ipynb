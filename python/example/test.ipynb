{
 "cells": [
  {
   "cell_type": "code",
   "execution_count": 2,
   "metadata": {},
   "outputs": [],
   "source": [
    "from sqlalchemy.orm import DeclarativeBase, Mapped, mapped_column, Session\n",
    "from sqlalchemy import String, insert, select, update"
   ]
  },
  {
   "cell_type": "code",
   "execution_count": 3,
   "metadata": {},
   "outputs": [],
   "source": [
    "from CV_matcher.connection.PostgresConnection import PostgresConnection\n"
   ]
  },
  {
   "cell_type": "code",
   "execution_count": 4,
   "metadata": {},
   "outputs": [],
   "source": [
    "pgConn = PostgresConnection(\"localhost\", 54320, \"postgres\", \"postgres\", \"postgres\")"
   ]
  },
  {
   "cell_type": "code",
   "execution_count": 5,
   "metadata": {},
   "outputs": [],
   "source": [
    "engine = pgConn.getEngine()"
   ]
  },
  {
   "cell_type": "code",
   "execution_count": 3,
   "metadata": {},
   "outputs": [],
   "source": [
    "class Base(DeclarativeBase):\n",
    "    pass\n",
    "\n",
    "class TestModel(Base):\n",
    "    __tablename__ = \"test\"\n",
    "    id: Mapped[int] = mapped_column(primary_key=True)\n",
    "    name: Mapped[str] = mapped_column(String(50), nullable=True)\n",
    "\n",
    "    def __repr__(self):\n",
    "        return f\"<TestModel(id={self.id}, name={self.name})>\"\n",
    "\n",
    "    def all_key_values(self, exclude_primary_key=False):\n",
    "        if exclude_primary_key:\n",
    "            return {c.name: getattr(self, c.name) for c in self.__table__.columns if not c.primary_key}\n",
    "        return {c.name: getattr(self, c.name) for c in self.__table__.columns}"
   ]
  },
  {
   "cell_type": "code",
   "execution_count": 5,
   "metadata": {},
   "outputs": [
    {
     "data": {
      "text/plain": [
       "'test'"
      ]
     },
     "execution_count": 5,
     "metadata": {},
     "output_type": "execute_result"
    }
   ],
   "source": [
    "TestModel.__table__.name"
   ]
  },
  {
   "cell_type": "code",
   "execution_count": 16,
   "metadata": {},
   "outputs": [
    {
     "name": "stdout",
     "output_type": "stream",
     "text": [
      "2024-08-20 16:22:11,043 INFO sqlalchemy.engine.Engine BEGIN (implicit)\n",
      "2024-08-20 16:22:11,043 INFO sqlalchemy.engine.Engine \n",
      "CREATE TABLE test (\n",
      "\tid SERIAL NOT NULL, \n",
      "\tname VARCHAR(50), \n",
      "\tPRIMARY KEY (id)\n",
      ")\n",
      "\n",
      "\n",
      "2024-08-20 16:22:11,044 INFO sqlalchemy.engine.Engine [no key 0.00053s] {}\n",
      "2024-08-20 16:22:11,048 INFO sqlalchemy.engine.Engine COMMIT\n"
     ]
    }
   ],
   "source": [
    "TestModel.__table__.create(engine)"
   ]
  },
  {
   "cell_type": "code",
   "execution_count": 17,
   "metadata": {},
   "outputs": [
    {
     "name": "stdout",
     "output_type": "stream",
     "text": [
      "2024-08-20 16:22:14,173 INFO sqlalchemy.engine.Engine BEGIN (implicit)\n",
      "2024-08-20 16:22:14,174 INFO sqlalchemy.engine.Engine INSERT INTO test (id, name) VALUES (%(id__0)s, %(name__0)s), (%(id__1)s, %(name__1)s)\n",
      "2024-08-20 16:22:14,175 INFO sqlalchemy.engine.Engine [generated in 0.00009s (insertmanyvalues)] {'name__0': 'test2', 'id__0': 2, 'name__1': 'test3', 'id__1': 3}\n",
      "2024-08-20 16:22:14,176 INFO sqlalchemy.engine.Engine COMMIT\n"
     ]
    }
   ],
   "source": [
    "# Insert into db, single records\n",
    "\n",
    "TestModel(id=1, name=\"test1\")\n",
    "\n",
    "with Session(engine) as session:\n",
    "    with session.begin():\n",
    "        session.add(TestModel(id=2, name=\"test2\"))\n",
    "        session.add(TestModel(id=3, name=\"test3\"))\n"
   ]
  },
  {
   "cell_type": "code",
   "execution_count": 10,
   "metadata": {},
   "outputs": [
    {
     "name": "stdout",
     "output_type": "stream",
     "text": [
      "2024-08-20 16:04:39,991 INFO sqlalchemy.engine.Engine BEGIN (implicit)\n",
      "2024-08-20 16:04:39,992 INFO sqlalchemy.engine.Engine INSERT INTO test (id, name) VALUES (%(id__0)s, %(name__0)s), (%(id__1)s, %(name__1)s), (%(id__2)s, %(name__2)s)\n",
      "2024-08-20 16:04:39,993 INFO sqlalchemy.engine.Engine [cached since 1101s ago (insertmanyvalues)] {'name__0': 'test4', 'id__0': 4, 'name__1': 'test5', 'id__1': 5, 'name__2': 'test6', 'id__2': 6}\n",
      "2024-08-20 16:04:39,994 INFO sqlalchemy.engine.Engine COMMIT\n"
     ]
    }
   ],
   "source": [
    "# Insert into db, bulk, list of Models\n",
    "\n",
    "with Session(engine) as session:\n",
    "    with session.begin():\n",
    "        session.add_all(\n",
    "            [\n",
    "                TestModel(id=4, name=\"test4\"), \n",
    "                TestModel(id=5, name=\"test5\"), \n",
    "                TestModel(id=6, name=\"test6\")\n",
    "            ]\n",
    "        )"
   ]
  },
  {
   "cell_type": "code",
   "execution_count": 18,
   "metadata": {},
   "outputs": [
    {
     "name": "stdout",
     "output_type": "stream",
     "text": [
      "2024-08-20 16:23:42,560 INFO sqlalchemy.engine.Engine BEGIN (implicit)\n",
      "2024-08-20 16:23:42,562 INFO sqlalchemy.engine.Engine INSERT INTO test (id, name) VALUES (%(id)s, %(name)s)\n",
      "2024-08-20 16:23:42,562 INFO sqlalchemy.engine.Engine [generated in 0.00083s] {'id': 7, 'name': 'test7'}\n",
      "2024-08-20 16:23:42,564 INFO sqlalchemy.engine.Engine INSERT INTO test (id) VALUES (%(id)s)\n",
      "2024-08-20 16:23:42,565 INFO sqlalchemy.engine.Engine [generated in 0.00076s] {'id': 8}\n",
      "2024-08-20 16:23:42,566 INFO sqlalchemy.engine.Engine INSERT INTO test (id, name) VALUES (%(id)s, %(name)s)\n",
      "2024-08-20 16:23:42,566 INFO sqlalchemy.engine.Engine [cached since 0.004707s ago] {'id': 9, 'name': 'test9'}\n",
      "2024-08-20 16:23:42,567 INFO sqlalchemy.engine.Engine COMMIT\n"
     ]
    }
   ],
   "source": [
    "# Insert into db, bulk, list of dicts\n",
    "\n",
    "with Session(engine) as session:\n",
    "    with session.begin():\n",
    "        session.execute(\n",
    "            insert(TestModel),\n",
    "            [\n",
    "                {\"id\": 7, \"name\": \"test7\"},\n",
    "                {\"id\": 8, \"name\": None},\n",
    "                {\"id\": 9, \"name\": \"test9\"}\n",
    "            ]\n",
    "        )"
   ]
  },
  {
   "cell_type": "code",
   "execution_count": 20,
   "metadata": {},
   "outputs": [
    {
     "name": "stdout",
     "output_type": "stream",
     "text": [
      "2024-08-20 16:24:47,391 INFO sqlalchemy.engine.Engine BEGIN (implicit)\n",
      "2024-08-20 16:24:47,392 INFO sqlalchemy.engine.Engine INSERT INTO test (id, name) VALUES (%(id)s, %(name)s)\n",
      "2024-08-20 16:24:47,393 INFO sqlalchemy.engine.Engine [cached since 64.83s ago] {'id': 10, 'name': 'test10'}\n",
      "2024-08-20 16:24:47,394 INFO sqlalchemy.engine.Engine INSERT INTO test (id) VALUES (%(id)s)\n",
      "2024-08-20 16:24:47,394 INFO sqlalchemy.engine.Engine [cached since 64.83s ago] {'id': 11}\n",
      "2024-08-20 16:24:47,395 INFO sqlalchemy.engine.Engine INSERT INTO test (id, name) VALUES (%(id)s, %(name)s)\n",
      "2024-08-20 16:24:47,395 INFO sqlalchemy.engine.Engine [cached since 64.83s ago] {'id': 12, 'name': 'test12'}\n",
      "2024-08-20 16:24:47,397 INFO sqlalchemy.engine.Engine COMMIT\n"
     ]
    }
   ],
   "source": [
    "# Insert into db, bulk, list of dicts, with null\n",
    "\n",
    "with Session(engine) as session:\n",
    "    with session.begin():\n",
    "        session.execute(\n",
    "            insert(TestModel),\n",
    "            [\n",
    "                {\"id\": 10, \"name\": \"test10\"},\n",
    "                {\"id\": 11},\n",
    "                {\"id\": 12, \"name\": \"test12\"}\n",
    "            ]\n",
    "        )"
   ]
  },
  {
   "cell_type": "code",
   "execution_count": 24,
   "metadata": {},
   "outputs": [
    {
     "name": "stdout",
     "output_type": "stream",
     "text": [
      "2024-08-21 15:33:28,904 INFO sqlalchemy.engine.Engine BEGIN (implicit)\n",
      "2024-08-21 15:33:28,905 INFO sqlalchemy.engine.Engine SELECT test.id, test.name \n",
      "FROM test\n",
      "2024-08-21 15:33:28,906 INFO sqlalchemy.engine.Engine [cached since 473.7s ago] {}\n",
      "<TestModel(id=2, name=test2)>\n",
      "2024-08-21 15:33:28,907 INFO sqlalchemy.engine.Engine COMMIT\n"
     ]
    }
   ],
   "source": [
    "# Select all records from db\n",
    "\n",
    "with Session(engine) as session:\n",
    "    with session.begin():\n",
    "        statement = select(TestModel)\n",
    "        testModels = session.scalars(statement).all()\n",
    "        print(testModels[0])"
   ]
  },
  {
   "cell_type": "code",
   "execution_count": 37,
   "metadata": {},
   "outputs": [
    {
     "name": "stdout",
     "output_type": "stream",
     "text": [
      "{'id': 3, 'name': 'test3_updated_2'}\n"
     ]
    }
   ],
   "source": [
    "# Update one record\n",
    "\n",
    "updateModel = TestModel(id=3, name=\"test3_updated_2\")\n",
    "\n",
    "with Session(engine) as session:\n",
    "    with session.begin():\n",
    "        session.execute(\n",
    "            update(TestModel)\n",
    "            .where(TestModel.id == updateModel.id)\n",
    "            .values(updateModel.all_key_values(exclude_primary_key=True))\n",
    "        )\n",
    "        statement = select(TestModel).where(TestModel.id == 3)\n",
    "        testModels = session.scalars(statement).all()\n",
    "        print(testModels[0])"
   ]
  }
 ],
 "metadata": {
  "kernelspec": {
   "display_name": "Python 3",
   "language": "python",
   "name": "python3"
  },
  "language_info": {
   "codemirror_mode": {
    "name": "ipython",
    "version": 3
   },
   "file_extension": ".py",
   "mimetype": "text/x-python",
   "name": "python",
   "nbconvert_exporter": "python",
   "pygments_lexer": "ipython3",
   "version": "3.10.14"
  }
 },
 "nbformat": 4,
 "nbformat_minor": 2
}
