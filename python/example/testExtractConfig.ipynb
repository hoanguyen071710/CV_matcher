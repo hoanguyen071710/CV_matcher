{
 "cells": [
  {
   "cell_type": "code",
   "execution_count": 1,
   "metadata": {},
   "outputs": [],
   "source": [
    "from CV_matcher.service.jobScraper.TimeBased import TimeBasedScrape"
   ]
  },
  {
   "cell_type": "code",
   "execution_count": 2,
   "metadata": {},
   "outputs": [],
   "source": [
    "from CV_matcher.model.entities.ExtractConfig import ExtractConfig"
   ]
  },
  {
   "cell_type": "code",
   "execution_count": 2,
   "metadata": {},
   "outputs": [],
   "source": [
    "from sqlalchemy.dialects.postgresql.base import PGInspector\n",
    "from CV_matcher.connection.PostgresConnection import PostgresConnection\n",
    "\n",
    "conn = PostgresConnection(\"localhost\", 54320, \"postgres\", \"postgres\", \"postgres\")\n",
    "engine=conn.getEngine()\n",
    "\n",
    "# PGInspector(bind=engine).has_table(\n",
    "#     table_name=ExtractConfig.__table__.name.lower(),\n",
    "#     schema=ExtractConfig.__table_args__[\"schema\"].lower()\n",
    "# )"
   ]
  },
  {
   "cell_type": "code",
   "execution_count": 3,
   "metadata": {},
   "outputs": [
    {
     "name": "stdout",
     "output_type": "stream",
     "text": [
      "Checking if table Config.ExtractConfig exists\n",
      "2024-09-01 00:44:53,501 INFO sqlalchemy.engine.Engine select pg_catalog.version()\n",
      "2024-09-01 00:44:53,501 INFO sqlalchemy.engine.Engine [raw sql] {}\n",
      "2024-09-01 00:44:53,503 INFO sqlalchemy.engine.Engine select current_schema()\n",
      "2024-09-01 00:44:53,503 INFO sqlalchemy.engine.Engine [raw sql] {}\n",
      "2024-09-01 00:44:53,505 INFO sqlalchemy.engine.Engine show standard_conforming_strings\n",
      "2024-09-01 00:44:53,505 INFO sqlalchemy.engine.Engine [raw sql] {}\n",
      "2024-09-01 00:44:53,508 INFO sqlalchemy.engine.Engine BEGIN (implicit)\n",
      "2024-09-01 00:44:53,508 INFO sqlalchemy.engine.Engine SELECT pg_catalog.pg_class.relname \n",
      "FROM pg_catalog.pg_class JOIN pg_catalog.pg_namespace ON pg_catalog.pg_namespace.oid = pg_catalog.pg_class.relnamespace \n",
      "WHERE pg_catalog.pg_class.relname = %(table_name)s AND pg_catalog.pg_class.relkind = ANY (ARRAY[%(param_1)s, %(param_2)s, %(param_3)s, %(param_4)s, %(param_5)s]) AND pg_catalog.pg_namespace.nspname = %(nspname_1)s\n",
      "2024-09-01 00:44:53,508 INFO sqlalchemy.engine.Engine [generated in 0.00051s] {'table_name': 'ExtractConfig', 'param_1': 'r', 'param_2': 'p', 'param_3': 'f', 'param_4': 'v', 'param_5': 'm', 'nspname_1': 'Config'}\n",
      "2024-09-01 00:44:53,511 INFO sqlalchemy.engine.Engine ROLLBACK\n",
      "2024-09-01 00:44:53,512 INFO sqlalchemy.engine.Engine BEGIN (implicit)\n",
      "2024-09-01 00:44:53,516 INFO sqlalchemy.engine.Engine SELECT \"Config\".\"ExtractConfig\".id, \"Config\".\"ExtractConfig\".site_name, \"Config\".\"ExtractConfig\".search_term, \"Config\".\"ExtractConfig\".location, \"Config\".\"ExtractConfig\".distance, \"Config\".\"ExtractConfig\".is_remote, \"Config\".\"ExtractConfig\".job_type, \"Config\".\"ExtractConfig\".easy_apply, \"Config\".\"ExtractConfig\".results_wanted, \"Config\".\"ExtractConfig\".country_indeed, \"Config\".\"ExtractConfig\".hyperlinks, \"Config\".\"ExtractConfig\".proxies, \"Config\".\"ExtractConfig\".description_format, \"Config\".\"ExtractConfig\".linkedin_fetch_description, \"Config\".\"ExtractConfig\".linkedin_company_ids, \"Config\".\"ExtractConfig\".\"offset\", \"Config\".\"ExtractConfig\".hours_old, \"Config\".\"ExtractConfig\".enforce_annual_salary, \"Config\".\"ExtractConfig\".\"verbose\", \"Config\".\"ExtractConfig\".kwargs \n",
      "FROM \"Config\".\"ExtractConfig\"\n",
      "2024-09-01 00:44:53,518 INFO sqlalchemy.engine.Engine [generated in 0.00223s] {}\n",
      "2024-09-01 00:44:53,522 INFO sqlalchemy.engine.Engine ROLLBACK\n"
     ]
    }
   ],
   "source": [
    "sc = TimeBasedScrape()"
   ]
  },
  {
   "cell_type": "code",
   "execution_count": 6,
   "metadata": {},
   "outputs": [
    {
     "data": {
      "text/plain": [
       "<CV_matcher.model.entities.ExtractConfig.ExtractConfig at 0x10c344190>"
      ]
     },
     "execution_count": 6,
     "metadata": {},
     "output_type": "execute_result"
    }
   ],
   "source": [
    "sc.configs[0][0]"
   ]
  }
 ],
 "metadata": {
  "kernelspec": {
   "display_name": "Python 3",
   "language": "python",
   "name": "python3"
  },
  "language_info": {
   "codemirror_mode": {
    "name": "ipython",
    "version": 3
   },
   "file_extension": ".py",
   "mimetype": "text/x-python",
   "name": "python",
   "nbconvert_exporter": "python",
   "pygments_lexer": "ipython3",
   "version": "3.11.9"
  }
 },
 "nbformat": 4,
 "nbformat_minor": 2
}
